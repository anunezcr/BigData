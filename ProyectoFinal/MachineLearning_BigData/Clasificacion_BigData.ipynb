{
 "cells": [
  {
   "cell_type": "markdown",
   "metadata": {},
   "source": [
    "# Programa: Ciencia de Datos, Curso: Big Data\n",
    "# Proyecto Final, Machine Learning Para Big Data\n",
    "\n",
    "## Alonso Nuñez Sanchez"
   ]
  },
  {
   "cell_type": "markdown",
   "metadata": {},
   "source": [
    "Esta notebook agrupa los conocimientos adquiridos durante el curso, para resolver un problema real con datos reales.\n",
    "\n",
    "Muestra la aplicación de Machine Learning usando librerias de Spark y MLLib.\n",
    "\n",
    "Usa distintos algoritmos de Clasificación para tratar un conjunto de datos de más de 22.000 registros. Cada registro es un día de operación de una tienda, el rango de los datos corresponde a 365 días de un año\n",
    "\n",
    "Estos datos corresponden a las ventas diarias de un negocio, la clase a clasificar corresponde a la clasificación del día como de altas ventas (1) o bajas (0).\n",
    "\n",
    "Los datos son leídos de una Base de Datos de postgreSQL y posteriormente manejados en memoria en estructuras data frame de Spark\n",
    "\n",
    "El objetivo es tener una herramienta que permita predecir si un día futuro será de altas o bajas ventas, y así el negocio tome decisiones sobre horarios, cantidad de empleados, pedidos de materia prima, etc. , con una certeza mayor que solo la experiencia de los gerentes.\n"
   ]
  },
  {
   "cell_type": "markdown",
   "metadata": {},
   "source": [
    "Iniciacialización de Spark y lectura de la Base de Datos PostgreSQL\n"
   ]
  },
  {
   "cell_type": "code",
   "execution_count": 1,
   "metadata": {},
   "outputs": [
    {
     "data": {
      "text/html": [
       "<div>\n",
       "<style scoped>\n",
       "    .dataframe tbody tr th:only-of-type {\n",
       "        vertical-align: middle;\n",
       "    }\n",
       "\n",
       "    .dataframe tbody tr th {\n",
       "        vertical-align: top;\n",
       "    }\n",
       "\n",
       "    .dataframe thead th {\n",
       "        text-align: right;\n",
       "    }\n",
       "</style>\n",
       "<table border=\"1\" class=\"dataframe\">\n",
       "  <thead>\n",
       "    <tr style=\"text-align: right;\">\n",
       "      <th></th>\n",
       "      <th>id_tieda</th>\n",
       "      <th>tipo_tienda</th>\n",
       "      <th>provincia</th>\n",
       "      <th>supervisor</th>\n",
       "      <th>mes_del_anio</th>\n",
       "      <th>semana_del_anio</th>\n",
       "      <th>es_quincena</th>\n",
       "      <th>es_feriado</th>\n",
       "      <th>dia_de_la_semana</th>\n",
       "      <th>horas_operacion</th>\n",
       "      <th>pos_en_uso</th>\n",
       "      <th>clientes_totales</th>\n",
       "      <th>clientes_vip</th>\n",
       "      <th>label</th>\n",
       "    </tr>\n",
       "  </thead>\n",
       "  <tbody>\n",
       "    <tr>\n",
       "      <th>0</th>\n",
       "      <td>12</td>\n",
       "      <td>FS</td>\n",
       "      <td>SAN JOSE</td>\n",
       "      <td>2015622_080</td>\n",
       "      <td>1</td>\n",
       "      <td>1</td>\n",
       "      <td>VERDADERO</td>\n",
       "      <td>Anio Nuevo                                    ...</td>\n",
       "      <td>Lunes</td>\n",
       "      <td>11</td>\n",
       "      <td>4</td>\n",
       "      <td>210</td>\n",
       "      <td>23</td>\n",
       "      <td>0</td>\n",
       "    </tr>\n",
       "    <tr>\n",
       "      <th>1</th>\n",
       "      <td>12</td>\n",
       "      <td>FS</td>\n",
       "      <td>SAN JOSE</td>\n",
       "      <td>2015622_080</td>\n",
       "      <td>1</td>\n",
       "      <td>1</td>\n",
       "      <td>VERDADERO</td>\n",
       "      <td>NO                                           ...</td>\n",
       "      <td>Martes</td>\n",
       "      <td>11</td>\n",
       "      <td>4</td>\n",
       "      <td>306</td>\n",
       "      <td>17</td>\n",
       "      <td>1</td>\n",
       "    </tr>\n",
       "    <tr>\n",
       "      <th>2</th>\n",
       "      <td>12</td>\n",
       "      <td>FS</td>\n",
       "      <td>SAN JOSE</td>\n",
       "      <td>2015622_080</td>\n",
       "      <td>1</td>\n",
       "      <td>1</td>\n",
       "      <td>VERDADERO</td>\n",
       "      <td>NO                                           ...</td>\n",
       "      <td>Miercoles</td>\n",
       "      <td>11</td>\n",
       "      <td>4</td>\n",
       "      <td>203</td>\n",
       "      <td>12</td>\n",
       "      <td>0</td>\n",
       "    </tr>\n",
       "    <tr>\n",
       "      <th>3</th>\n",
       "      <td>12</td>\n",
       "      <td>FS</td>\n",
       "      <td>SAN JOSE</td>\n",
       "      <td>2015622_080</td>\n",
       "      <td>1</td>\n",
       "      <td>1</td>\n",
       "      <td>FALSO</td>\n",
       "      <td>NO                                           ...</td>\n",
       "      <td>Jueves</td>\n",
       "      <td>11</td>\n",
       "      <td>4</td>\n",
       "      <td>192</td>\n",
       "      <td>13</td>\n",
       "      <td>0</td>\n",
       "    </tr>\n",
       "    <tr>\n",
       "      <th>4</th>\n",
       "      <td>12</td>\n",
       "      <td>FS</td>\n",
       "      <td>SAN JOSE</td>\n",
       "      <td>2015622_080</td>\n",
       "      <td>1</td>\n",
       "      <td>1</td>\n",
       "      <td>FALSO</td>\n",
       "      <td>NO                                           ...</td>\n",
       "      <td>Viernes</td>\n",
       "      <td>12</td>\n",
       "      <td>4</td>\n",
       "      <td>229</td>\n",
       "      <td>16</td>\n",
       "      <td>0</td>\n",
       "    </tr>\n",
       "    <tr>\n",
       "      <th>5</th>\n",
       "      <td>12</td>\n",
       "      <td>FS</td>\n",
       "      <td>SAN JOSE</td>\n",
       "      <td>2015622_080</td>\n",
       "      <td>1</td>\n",
       "      <td>1</td>\n",
       "      <td>FALSO</td>\n",
       "      <td>NO                                           ...</td>\n",
       "      <td>Sabado</td>\n",
       "      <td>15</td>\n",
       "      <td>4</td>\n",
       "      <td>225</td>\n",
       "      <td>22</td>\n",
       "      <td>0</td>\n",
       "    </tr>\n",
       "    <tr>\n",
       "      <th>6</th>\n",
       "      <td>12</td>\n",
       "      <td>FS</td>\n",
       "      <td>SAN JOSE</td>\n",
       "      <td>2015622_080</td>\n",
       "      <td>1</td>\n",
       "      <td>2</td>\n",
       "      <td>FALSO</td>\n",
       "      <td>NO                                           ...</td>\n",
       "      <td>Domingo</td>\n",
       "      <td>16</td>\n",
       "      <td>4</td>\n",
       "      <td>224</td>\n",
       "      <td>26</td>\n",
       "      <td>0</td>\n",
       "    </tr>\n",
       "    <tr>\n",
       "      <th>7</th>\n",
       "      <td>12</td>\n",
       "      <td>FS</td>\n",
       "      <td>SAN JOSE</td>\n",
       "      <td>2015622_080</td>\n",
       "      <td>1</td>\n",
       "      <td>2</td>\n",
       "      <td>FALSO</td>\n",
       "      <td>NO                                           ...</td>\n",
       "      <td>Lunes</td>\n",
       "      <td>12</td>\n",
       "      <td>4</td>\n",
       "      <td>179</td>\n",
       "      <td>14</td>\n",
       "      <td>0</td>\n",
       "    </tr>\n",
       "    <tr>\n",
       "      <th>8</th>\n",
       "      <td>12</td>\n",
       "      <td>FS</td>\n",
       "      <td>SAN JOSE</td>\n",
       "      <td>2015622_080</td>\n",
       "      <td>1</td>\n",
       "      <td>2</td>\n",
       "      <td>FALSO</td>\n",
       "      <td>NO                                           ...</td>\n",
       "      <td>Martes</td>\n",
       "      <td>11</td>\n",
       "      <td>4</td>\n",
       "      <td>268</td>\n",
       "      <td>15</td>\n",
       "      <td>0</td>\n",
       "    </tr>\n",
       "    <tr>\n",
       "      <th>9</th>\n",
       "      <td>12</td>\n",
       "      <td>FS</td>\n",
       "      <td>SAN JOSE</td>\n",
       "      <td>2015622_080</td>\n",
       "      <td>1</td>\n",
       "      <td>2</td>\n",
       "      <td>FALSO</td>\n",
       "      <td>NO                                           ...</td>\n",
       "      <td>Miercoles</td>\n",
       "      <td>10</td>\n",
       "      <td>4</td>\n",
       "      <td>215</td>\n",
       "      <td>15</td>\n",
       "      <td>0</td>\n",
       "    </tr>\n",
       "  </tbody>\n",
       "</table>\n",
       "</div>"
      ],
      "text/plain": [
       "   id_tieda       tipo_tienda         provincia        supervisor  \\\n",
       "0        12  FS                SAN JOSE          2015622_080        \n",
       "1        12  FS                SAN JOSE          2015622_080        \n",
       "2        12  FS                SAN JOSE          2015622_080        \n",
       "3        12  FS                SAN JOSE          2015622_080        \n",
       "4        12  FS                SAN JOSE          2015622_080        \n",
       "5        12  FS                SAN JOSE          2015622_080        \n",
       "6        12  FS                SAN JOSE          2015622_080        \n",
       "7        12  FS                SAN JOSE          2015622_080        \n",
       "8        12  FS                SAN JOSE          2015622_080        \n",
       "9        12  FS                SAN JOSE          2015622_080        \n",
       "\n",
       "   mes_del_anio  semana_del_anio       es_quincena  \\\n",
       "0             1                1   VERDADERO         \n",
       "1             1                1   VERDADERO         \n",
       "2             1                1   VERDADERO         \n",
       "3             1                1   FALSO             \n",
       "4             1                1   FALSO             \n",
       "5             1                1   FALSO             \n",
       "6             1                2   FALSO             \n",
       "7             1                2   FALSO             \n",
       "8             1                2   FALSO             \n",
       "9             1                2   FALSO             \n",
       "\n",
       "                                          es_feriado  dia_de_la_semana  \\\n",
       "0  Anio Nuevo                                    ...  Lunes              \n",
       "1   NO                                           ...  Martes             \n",
       "2   NO                                           ...  Miercoles          \n",
       "3   NO                                           ...  Jueves             \n",
       "4   NO                                           ...  Viernes            \n",
       "5   NO                                           ...  Sabado             \n",
       "6   NO                                           ...  Domingo            \n",
       "7   NO                                           ...  Lunes              \n",
       "8   NO                                           ...  Martes             \n",
       "9   NO                                           ...  Miercoles          \n",
       "\n",
       "   horas_operacion  pos_en_uso  clientes_totales  clientes_vip  label  \n",
       "0               11           4               210            23      0  \n",
       "1               11           4               306            17      1  \n",
       "2               11           4               203            12      0  \n",
       "3               11           4               192            13      0  \n",
       "4               12           4               229            16      0  \n",
       "5               15           4               225            22      0  \n",
       "6               16           4               224            26      0  \n",
       "7               12           4               179            14      0  \n",
       "8               11           4               268            15      0  \n",
       "9               10           4               215            15      0  "
      ]
     },
     "execution_count": 1,
     "metadata": {},
     "output_type": "execute_result"
    }
   ],
   "source": [
    "import findspark\n",
    "findspark.init('C:\\spark')\n",
    "\n",
    "from datetime import datetime\n",
    "from pyspark.sql import SparkSession\n",
    "from pyspark.sql import DataFrameReader\n",
    "from pyspark.sql.functions import col, date_format, udf \n",
    "from pyspark.sql.types import DateType\n",
    "\n",
    "spark = SparkSession \\\n",
    "    .builder \\\n",
    "    .appName(\"Basic JDBC pipeline\") \\\n",
    "    .config(\"spark.driver.extraClassPath\", \"C:\\Tarea3\\postgresql-42.2.9.jar\") \\\n",
    "    .config(\"spark.executor.extraClassPath\", \"C:\\Tarea3\\postgresql-42.2.9.jar\") \\\n",
    "    .getOrCreate()\n",
    "\n",
    "# Lee los datos de la tabla \"clientes\" en la base de datos \"BigData_ProyectoFinal\"\n",
    "# usando el conector JDBC de Postgresql y crea una estructura tipo dataframe de Spark\n",
    "df = spark \\\n",
    "    .read \\\n",
    "    .format(\"jdbc\") \\\n",
    "    .option(\"url\", \"jdbc:postgresql://localhost:5432/BigData_ProyectoFinal\") \\\n",
    "    .option(\"user\", \"postgres\") \\\n",
    "    .option(\"password\", \"zeroone\") \\\n",
    "    .option(\"dbtable\", \"clientes\") \\\n",
    "    .load()\n",
    "\n",
    "#muestra el contenido del dataframe (los primeros 10 registros)\n",
    "df.limit(10).toPandas()\n",
    "\n"
   ]
  },
  {
   "cell_type": "markdown",
   "metadata": {},
   "source": [
    "Para empezar, analizamos los datos.\n",
    "\n",
    "Características como el tamaño, esquema, tipos, etc"
   ]
  },
  {
   "cell_type": "code",
   "execution_count": 2,
   "metadata": {},
   "outputs": [
    {
     "name": "stdout",
     "output_type": "stream",
     "text": [
      "Cantidad de registros:  22633\n",
      "\n",
      "Cantidad de columnas:  14\n"
     ]
    }
   ],
   "source": [
    "\n",
    "print(\"Cantidad de registros: \" ,(df.count()))\n",
    "print (\"\\nCantidad de columnas: \", len(df.columns))"
   ]
  },
  {
   "cell_type": "markdown",
   "metadata": {},
   "source": [
    "Visualizamos los features y las clases\n",
    "La clase de este caso es de tipo binaria, se llama \"label\" y representa el volumen de ventas (alto = 1 o bajo = 0)\n",
    "\n",
    "Imprimiendo el Schema, podemos ver los nombres de los features y el tipo de datos (integer, string, etc)"
   ]
  },
  {
   "cell_type": "code",
   "execution_count": 3,
   "metadata": {},
   "outputs": [
    {
     "name": "stdout",
     "output_type": "stream",
     "text": [
      "root\n",
      " |-- id_tieda: integer (nullable = true)\n",
      " |-- tipo_tienda: string (nullable = true)\n",
      " |-- provincia: string (nullable = true)\n",
      " |-- supervisor: string (nullable = true)\n",
      " |-- mes_del_anio: integer (nullable = true)\n",
      " |-- semana_del_anio: integer (nullable = true)\n",
      " |-- es_quincena: string (nullable = true)\n",
      " |-- es_feriado: string (nullable = true)\n",
      " |-- dia_de_la_semana: string (nullable = true)\n",
      " |-- horas_operacion: integer (nullable = true)\n",
      " |-- pos_en_uso: integer (nullable = true)\n",
      " |-- clientes_totales: integer (nullable = true)\n",
      " |-- clientes_vip: integer (nullable = true)\n",
      " |-- label: integer (nullable = true)\n",
      "\n"
     ]
    }
   ],
   "source": [
    "df.printSchema()"
   ]
  },
  {
   "cell_type": "markdown",
   "metadata": {},
   "source": [
    "Ejecutamos un análisis estadístico de los datos, para conocer media, desviación estandar, minimo y máximo de los features"
   ]
  },
  {
   "cell_type": "code",
   "execution_count": 4,
   "metadata": {},
   "outputs": [
    {
     "data": {
      "text/html": [
       "<div>\n",
       "<style scoped>\n",
       "    .dataframe tbody tr th:only-of-type {\n",
       "        vertical-align: middle;\n",
       "    }\n",
       "\n",
       "    .dataframe tbody tr th {\n",
       "        vertical-align: top;\n",
       "    }\n",
       "\n",
       "    .dataframe thead th {\n",
       "        text-align: right;\n",
       "    }\n",
       "</style>\n",
       "<table border=\"1\" class=\"dataframe\">\n",
       "  <thead>\n",
       "    <tr style=\"text-align: right;\">\n",
       "      <th></th>\n",
       "      <th>summary</th>\n",
       "      <th>id_tieda</th>\n",
       "      <th>tipo_tienda</th>\n",
       "      <th>provincia</th>\n",
       "      <th>supervisor</th>\n",
       "      <th>mes_del_anio</th>\n",
       "      <th>semana_del_anio</th>\n",
       "      <th>es_quincena</th>\n",
       "      <th>es_feriado</th>\n",
       "      <th>dia_de_la_semana</th>\n",
       "      <th>horas_operacion</th>\n",
       "      <th>pos_en_uso</th>\n",
       "      <th>clientes_totales</th>\n",
       "      <th>clientes_vip</th>\n",
       "      <th>label</th>\n",
       "    </tr>\n",
       "  </thead>\n",
       "  <tbody>\n",
       "    <tr>\n",
       "      <th>0</th>\n",
       "      <td>count</td>\n",
       "      <td>22633</td>\n",
       "      <td>22633</td>\n",
       "      <td>22633</td>\n",
       "      <td>22633</td>\n",
       "      <td>22633</td>\n",
       "      <td>22633</td>\n",
       "      <td>22633</td>\n",
       "      <td>22633</td>\n",
       "      <td>22633</td>\n",
       "      <td>22633</td>\n",
       "      <td>22633</td>\n",
       "      <td>22633</td>\n",
       "      <td>22633</td>\n",
       "      <td>22633</td>\n",
       "    </tr>\n",
       "    <tr>\n",
       "      <th>1</th>\n",
       "      <td>mean</td>\n",
       "      <td>61.04347633985773</td>\n",
       "      <td>None</td>\n",
       "      <td>None</td>\n",
       "      <td>None</td>\n",
       "      <td>6.529492334202271</td>\n",
       "      <td>26.730216939866565</td>\n",
       "      <td>None</td>\n",
       "      <td>None</td>\n",
       "      <td>None</td>\n",
       "      <td>11.44982989440198</td>\n",
       "      <td>4.1691335660319</td>\n",
       "      <td>259.68713824945877</td>\n",
       "      <td>18.814739539610304</td>\n",
       "      <td>0.31909159192329783</td>\n",
       "    </tr>\n",
       "    <tr>\n",
       "      <th>2</th>\n",
       "      <td>stddev</td>\n",
       "      <td>30.795570212597998</td>\n",
       "      <td>None</td>\n",
       "      <td>None</td>\n",
       "      <td>None</td>\n",
       "      <td>3.4496745756308216</td>\n",
       "      <td>15.06362244385176</td>\n",
       "      <td>None</td>\n",
       "      <td>None</td>\n",
       "      <td>None</td>\n",
       "      <td>3.3546899913949972</td>\n",
       "      <td>1.3261874953284474</td>\n",
       "      <td>111.18561891445763</td>\n",
       "      <td>11.719809410253008</td>\n",
       "      <td>0.4661349033335475</td>\n",
       "    </tr>\n",
       "    <tr>\n",
       "      <th>3</th>\n",
       "      <td>min</td>\n",
       "      <td>12</td>\n",
       "      <td>FS</td>\n",
       "      <td>ALAJUELA</td>\n",
       "      <td>1670344_080</td>\n",
       "      <td>1</td>\n",
       "      <td>1</td>\n",
       "      <td>FALSO</td>\n",
       "      <td>Anexion del Partido de Nicoya                ...</td>\n",
       "      <td>Domingo</td>\n",
       "      <td>0</td>\n",
       "      <td>0</td>\n",
       "      <td>1</td>\n",
       "      <td>0</td>\n",
       "      <td>0</td>\n",
       "    </tr>\n",
       "    <tr>\n",
       "      <th>4</th>\n",
       "      <td>max</td>\n",
       "      <td>111</td>\n",
       "      <td>Mall</td>\n",
       "      <td>SAN JOSE</td>\n",
       "      <td>2032238_080</td>\n",
       "      <td>12</td>\n",
       "      <td>53</td>\n",
       "      <td>VERDADERO</td>\n",
       "      <td>Anio Nuevo                                    ...</td>\n",
       "      <td>Viernes</td>\n",
       "      <td>23</td>\n",
       "      <td>8</td>\n",
       "      <td>932</td>\n",
       "      <td>142</td>\n",
       "      <td>1</td>\n",
       "    </tr>\n",
       "  </tbody>\n",
       "</table>\n",
       "</div>"
      ],
      "text/plain": [
       "  summary            id_tieda       tipo_tienda         provincia  \\\n",
       "0   count               22633             22633             22633   \n",
       "1    mean   61.04347633985773              None              None   \n",
       "2  stddev  30.795570212597998              None              None   \n",
       "3     min                  12  FS                ALAJUELA           \n",
       "4     max                 111  Mall              SAN JOSE           \n",
       "\n",
       "         supervisor        mes_del_anio     semana_del_anio       es_quincena  \\\n",
       "0             22633               22633               22633             22633   \n",
       "1              None   6.529492334202271  26.730216939866565              None   \n",
       "2              None  3.4496745756308216   15.06362244385176              None   \n",
       "3  1670344_080                        1                   1   FALSO             \n",
       "4  2032238_080                       12                  53   VERDADERO         \n",
       "\n",
       "                                          es_feriado  dia_de_la_semana  \\\n",
       "0                                              22633             22633   \n",
       "1                                               None              None   \n",
       "2                                               None              None   \n",
       "3   Anexion del Partido de Nicoya                ...  Domingo            \n",
       "4  Anio Nuevo                                    ...  Viernes            \n",
       "\n",
       "      horas_operacion          pos_en_uso    clientes_totales  \\\n",
       "0               22633               22633               22633   \n",
       "1   11.44982989440198     4.1691335660319  259.68713824945877   \n",
       "2  3.3546899913949972  1.3261874953284474  111.18561891445763   \n",
       "3                   0                   0                   1   \n",
       "4                  23                   8                 932   \n",
       "\n",
       "         clientes_vip                label  \n",
       "0               22633                22633  \n",
       "1  18.814739539610304  0.31909159192329783  \n",
       "2  11.719809410253008   0.4661349033335475  \n",
       "3                   0                    0  \n",
       "4                 142                    1  "
      ]
     },
     "execution_count": 4,
     "metadata": {},
     "output_type": "execute_result"
    }
   ],
   "source": [
    "df.describe().toPandas()"
   ]
  },
  {
   "cell_type": "markdown",
   "metadata": {},
   "source": [
    "Validamos la distribución de los datos entre clases, para identificar si está balanceado"
   ]
  },
  {
   "cell_type": "code",
   "execution_count": 5,
   "metadata": {
    "scrolled": true
   },
   "outputs": [
    {
     "data": {
      "text/html": [
       "<div>\n",
       "<style scoped>\n",
       "    .dataframe tbody tr th:only-of-type {\n",
       "        vertical-align: middle;\n",
       "    }\n",
       "\n",
       "    .dataframe tbody tr th {\n",
       "        vertical-align: top;\n",
       "    }\n",
       "\n",
       "    .dataframe thead th {\n",
       "        text-align: right;\n",
       "    }\n",
       "</style>\n",
       "<table border=\"1\" class=\"dataframe\">\n",
       "  <thead>\n",
       "    <tr style=\"text-align: right;\">\n",
       "      <th></th>\n",
       "      <th>label</th>\n",
       "      <th>count</th>\n",
       "    </tr>\n",
       "  </thead>\n",
       "  <tbody>\n",
       "    <tr>\n",
       "      <th>0</th>\n",
       "      <td>1</td>\n",
       "      <td>7222</td>\n",
       "    </tr>\n",
       "    <tr>\n",
       "      <th>1</th>\n",
       "      <td>0</td>\n",
       "      <td>15411</td>\n",
       "    </tr>\n",
       "  </tbody>\n",
       "</table>\n",
       "</div>"
      ],
      "text/plain": [
       "   label  count\n",
       "0      1   7222\n",
       "1      0  15411"
      ]
     },
     "execution_count": 5,
     "metadata": {},
     "output_type": "execute_result"
    }
   ],
   "source": [
    "df.groupBy('label').count().toPandas()"
   ]
  },
  {
   "cell_type": "markdown",
   "metadata": {},
   "source": [
    "Una distribución aproximada de 32% para la clase 1 y 38% para la clase 0\n",
    "\n",
    "Es aceptable para el ejercicio y para la realidad de los datos en el negocio en cuestión\n",
    "\n",
    "Por lo tanto, continuamos con el análisis"
   ]
  },
  {
   "cell_type": "markdown",
   "metadata": {},
   "source": [
    "Analizamos distribución de algunos features que con conocimiento del negocio se consideran relevantes, tales como:\n",
    "\n",
    "1. Tipo de tienda\n",
    "2. Si es o no quincena\n",
    "3. El día de la semana"
   ]
  },
  {
   "cell_type": "code",
   "execution_count": 6,
   "metadata": {},
   "outputs": [
    {
     "data": {
      "text/html": [
       "<div>\n",
       "<style scoped>\n",
       "    .dataframe tbody tr th:only-of-type {\n",
       "        vertical-align: middle;\n",
       "    }\n",
       "\n",
       "    .dataframe tbody tr th {\n",
       "        vertical-align: top;\n",
       "    }\n",
       "\n",
       "    .dataframe thead th {\n",
       "        text-align: right;\n",
       "    }\n",
       "</style>\n",
       "<table border=\"1\" class=\"dataframe\">\n",
       "  <thead>\n",
       "    <tr style=\"text-align: right;\">\n",
       "      <th></th>\n",
       "      <th>tipo_tienda</th>\n",
       "      <th>count</th>\n",
       "    </tr>\n",
       "  </thead>\n",
       "  <tbody>\n",
       "    <tr>\n",
       "      <th>0</th>\n",
       "      <td>Mall</td>\n",
       "      <td>5857</td>\n",
       "    </tr>\n",
       "    <tr>\n",
       "      <th>1</th>\n",
       "      <td>FS</td>\n",
       "      <td>12773</td>\n",
       "    </tr>\n",
       "    <tr>\n",
       "      <th>2</th>\n",
       "      <td>IS</td>\n",
       "      <td>4003</td>\n",
       "    </tr>\n",
       "  </tbody>\n",
       "</table>\n",
       "</div>"
      ],
      "text/plain": [
       "        tipo_tienda  count\n",
       "0  Mall               5857\n",
       "1  FS                12773\n",
       "2  IS                 4003"
      ]
     },
     "execution_count": 6,
     "metadata": {},
     "output_type": "execute_result"
    }
   ],
   "source": [
    "df.groupBy('tipo_tienda').count().toPandas()"
   ]
  },
  {
   "cell_type": "code",
   "execution_count": 7,
   "metadata": {
    "scrolled": true
   },
   "outputs": [
    {
     "data": {
      "text/html": [
       "<div>\n",
       "<style scoped>\n",
       "    .dataframe tbody tr th:only-of-type {\n",
       "        vertical-align: middle;\n",
       "    }\n",
       "\n",
       "    .dataframe tbody tr th {\n",
       "        vertical-align: top;\n",
       "    }\n",
       "\n",
       "    .dataframe thead th {\n",
       "        text-align: right;\n",
       "    }\n",
       "</style>\n",
       "<table border=\"1\" class=\"dataframe\">\n",
       "  <thead>\n",
       "    <tr style=\"text-align: right;\">\n",
       "      <th></th>\n",
       "      <th>es_quincena</th>\n",
       "      <th>count</th>\n",
       "    </tr>\n",
       "  </thead>\n",
       "  <tbody>\n",
       "    <tr>\n",
       "      <th>0</th>\n",
       "      <td>VERDADERO</td>\n",
       "      <td>7743</td>\n",
       "    </tr>\n",
       "    <tr>\n",
       "      <th>1</th>\n",
       "      <td>FALSO</td>\n",
       "      <td>14890</td>\n",
       "    </tr>\n",
       "  </tbody>\n",
       "</table>\n",
       "</div>"
      ],
      "text/plain": [
       "        es_quincena  count\n",
       "0   VERDADERO         7743\n",
       "1   FALSO            14890"
      ]
     },
     "execution_count": 7,
     "metadata": {},
     "output_type": "execute_result"
    }
   ],
   "source": [
    "df.groupBy('es_quincena').count().toPandas()"
   ]
  },
  {
   "cell_type": "code",
   "execution_count": 8,
   "metadata": {},
   "outputs": [
    {
     "data": {
      "text/html": [
       "<div>\n",
       "<style scoped>\n",
       "    .dataframe tbody tr th:only-of-type {\n",
       "        vertical-align: middle;\n",
       "    }\n",
       "\n",
       "    .dataframe tbody tr th {\n",
       "        vertical-align: top;\n",
       "    }\n",
       "\n",
       "    .dataframe thead th {\n",
       "        text-align: right;\n",
       "    }\n",
       "</style>\n",
       "<table border=\"1\" class=\"dataframe\">\n",
       "  <thead>\n",
       "    <tr style=\"text-align: right;\">\n",
       "      <th></th>\n",
       "      <th>dia_de_la_semana</th>\n",
       "      <th>count</th>\n",
       "    </tr>\n",
       "  </thead>\n",
       "  <tbody>\n",
       "    <tr>\n",
       "      <th>0</th>\n",
       "      <td>Jueves</td>\n",
       "      <td>3221</td>\n",
       "    </tr>\n",
       "    <tr>\n",
       "      <th>1</th>\n",
       "      <td>Miercoles</td>\n",
       "      <td>3226</td>\n",
       "    </tr>\n",
       "    <tr>\n",
       "      <th>2</th>\n",
       "      <td>Viernes</td>\n",
       "      <td>3222</td>\n",
       "    </tr>\n",
       "    <tr>\n",
       "      <th>3</th>\n",
       "      <td>Sabado</td>\n",
       "      <td>3226</td>\n",
       "    </tr>\n",
       "    <tr>\n",
       "      <th>4</th>\n",
       "      <td>Martes</td>\n",
       "      <td>3223</td>\n",
       "    </tr>\n",
       "    <tr>\n",
       "      <th>5</th>\n",
       "      <td>Domingo</td>\n",
       "      <td>3227</td>\n",
       "    </tr>\n",
       "    <tr>\n",
       "      <th>6</th>\n",
       "      <td>Lunes</td>\n",
       "      <td>3288</td>\n",
       "    </tr>\n",
       "  </tbody>\n",
       "</table>\n",
       "</div>"
      ],
      "text/plain": [
       "   dia_de_la_semana  count\n",
       "0  Jueves             3221\n",
       "1  Miercoles          3226\n",
       "2  Viernes            3222\n",
       "3  Sabado             3226\n",
       "4  Martes             3223\n",
       "5  Domingo            3227\n",
       "6  Lunes              3288"
      ]
     },
     "execution_count": 8,
     "metadata": {},
     "output_type": "execute_result"
    }
   ],
   "source": [
    "df.groupBy('dia_de_la_semana').count().toPandas()"
   ]
  },
  {
   "cell_type": "markdown",
   "metadata": {},
   "source": [
    "Convertimos datos catergóricos en numéricos, usando OneHotEncoder\n",
    "\n",
    "En este caso serán:\n",
    "\n",
    "1. Tipo de tienda\n",
    "2. Si es o no quincena\n",
    "3. Día de la semana"
   ]
  },
  {
   "cell_type": "code",
   "execution_count": 9,
   "metadata": {},
   "outputs": [],
   "source": [
    "#import required libraries\n",
    "from pyspark.ml.feature import OneHotEncoder, StringIndexer, VectorAssembler"
   ]
  },
  {
   "cell_type": "code",
   "execution_count": 10,
   "metadata": {},
   "outputs": [],
   "source": [
    "tipo_tienda_indexer = StringIndexer(inputCol=\"tipo_tienda\", outputCol=\"tipo_tienda_index\").fit(df)\n",
    "df = tipo_tienda_indexer.transform(df)\n",
    "tipo_tienda_encoder = OneHotEncoder(inputCol=\"tipo_tienda_index\", outputCol=\"tipo_tienda_vec\")\n",
    "df = tipo_tienda_encoder.transform(df)\n",
    "\n",
    "es_quincena_indexer = StringIndexer(inputCol=\"es_quincena\", outputCol=\"es_quincena_index\").fit(df)\n",
    "df = es_quincena_indexer.transform(df)\n",
    "es_quincena_encoder = OneHotEncoder(inputCol=\"es_quincena_index\", outputCol=\"es_quincena_vec\")\n",
    "df = es_quincena_encoder.transform(df)\n",
    "\n",
    "dia_de_la_semana_indexer = StringIndexer(inputCol=\"dia_de_la_semana\", outputCol=\"dia_de_la_semana_index\").fit(df)\n",
    "df = dia_de_la_semana_indexer.transform(df)\n",
    "dia_de_la_semana_encoder = OneHotEncoder(inputCol=\"dia_de_la_semana_index\", outputCol=\"dia_de_la_semana_vec\")\n",
    "df = dia_de_la_semana_encoder.transform(df)"
   ]
  },
  {
   "cell_type": "code",
   "execution_count": 11,
   "metadata": {},
   "outputs": [
    {
     "name": "stdout",
     "output_type": "stream",
     "text": [
      "+----------------+-----------------+---------------+\n",
      "|tipo_tienda     |tipo_tienda_index|tipo_tienda_vec|\n",
      "+----------------+-----------------+---------------+\n",
      "|FS              |0.0              |(2,[0],[1.0])  |\n",
      "|FS              |0.0              |(2,[0],[1.0])  |\n",
      "|FS              |0.0              |(2,[0],[1.0])  |\n",
      "|FS              |0.0              |(2,[0],[1.0])  |\n",
      "|FS              |0.0              |(2,[0],[1.0])  |\n",
      "|FS              |0.0              |(2,[0],[1.0])  |\n",
      "|FS              |0.0              |(2,[0],[1.0])  |\n",
      "|FS              |0.0              |(2,[0],[1.0])  |\n",
      "|FS              |0.0              |(2,[0],[1.0])  |\n",
      "|FS              |0.0              |(2,[0],[1.0])  |\n",
      "|FS              |0.0              |(2,[0],[1.0])  |\n",
      "|FS              |0.0              |(2,[0],[1.0])  |\n",
      "|FS              |0.0              |(2,[0],[1.0])  |\n",
      "|FS              |0.0              |(2,[0],[1.0])  |\n",
      "|FS              |0.0              |(2,[0],[1.0])  |\n",
      "|FS              |0.0              |(2,[0],[1.0])  |\n",
      "|FS              |0.0              |(2,[0],[1.0])  |\n",
      "|FS              |0.0              |(2,[0],[1.0])  |\n",
      "|FS              |0.0              |(2,[0],[1.0])  |\n",
      "|FS              |0.0              |(2,[0],[1.0])  |\n",
      "+----------------+-----------------+---------------+\n",
      "only showing top 20 rows\n",
      "\n",
      "+----------------+-----------------+---------------+\n",
      "|es_quincena     |es_quincena_index|es_quincena_vec|\n",
      "+----------------+-----------------+---------------+\n",
      "| VERDADERO      |1.0              |(1,[],[])      |\n",
      "| VERDADERO      |1.0              |(1,[],[])      |\n",
      "| VERDADERO      |1.0              |(1,[],[])      |\n",
      "| FALSO          |0.0              |(1,[0],[1.0])  |\n",
      "| FALSO          |0.0              |(1,[0],[1.0])  |\n",
      "| FALSO          |0.0              |(1,[0],[1.0])  |\n",
      "| FALSO          |0.0              |(1,[0],[1.0])  |\n",
      "| FALSO          |0.0              |(1,[0],[1.0])  |\n",
      "| FALSO          |0.0              |(1,[0],[1.0])  |\n",
      "| FALSO          |0.0              |(1,[0],[1.0])  |\n",
      "| FALSO          |0.0              |(1,[0],[1.0])  |\n",
      "| FALSO          |0.0              |(1,[0],[1.0])  |\n",
      "| VERDADERO      |1.0              |(1,[],[])      |\n",
      "| VERDADERO      |1.0              |(1,[],[])      |\n",
      "| VERDADERO      |1.0              |(1,[],[])      |\n",
      "| VERDADERO      |1.0              |(1,[],[])      |\n",
      "| VERDADERO      |1.0              |(1,[],[])      |\n",
      "| FALSO          |0.0              |(1,[0],[1.0])  |\n",
      "| FALSO          |0.0              |(1,[0],[1.0])  |\n",
      "| FALSO          |0.0              |(1,[0],[1.0])  |\n",
      "+----------------+-----------------+---------------+\n",
      "only showing top 20 rows\n",
      "\n",
      "+----------------+----------------------+--------------------+\n",
      "|dia_de_la_semana|dia_de_la_semana_index|dia_de_la_semana_vec|\n",
      "+----------------+----------------------+--------------------+\n",
      "|Lunes           |0.0                   |(6,[0],[1.0])       |\n",
      "|Martes          |4.0                   |(6,[4],[1.0])       |\n",
      "|Miercoles       |2.0                   |(6,[2],[1.0])       |\n",
      "|Jueves          |6.0                   |(6,[],[])           |\n",
      "|Viernes         |5.0                   |(6,[5],[1.0])       |\n",
      "|Sabado          |3.0                   |(6,[3],[1.0])       |\n",
      "|Domingo         |1.0                   |(6,[1],[1.0])       |\n",
      "|Lunes           |0.0                   |(6,[0],[1.0])       |\n",
      "|Martes          |4.0                   |(6,[4],[1.0])       |\n",
      "|Miercoles       |2.0                   |(6,[2],[1.0])       |\n",
      "|Jueves          |6.0                   |(6,[],[])           |\n",
      "|Viernes         |5.0                   |(6,[5],[1.0])       |\n",
      "|Sabado          |3.0                   |(6,[3],[1.0])       |\n",
      "|Domingo         |1.0                   |(6,[1],[1.0])       |\n",
      "|Lunes           |0.0                   |(6,[0],[1.0])       |\n",
      "|Martes          |4.0                   |(6,[4],[1.0])       |\n",
      "|Miercoles       |2.0                   |(6,[2],[1.0])       |\n",
      "|Jueves          |6.0                   |(6,[],[])           |\n",
      "|Viernes         |5.0                   |(6,[5],[1.0])       |\n",
      "|Sabado          |3.0                   |(6,[3],[1.0])       |\n",
      "+----------------+----------------------+--------------------+\n",
      "only showing top 20 rows\n",
      "\n"
     ]
    }
   ],
   "source": [
    "df.select(['tipo_tienda','tipo_tienda_index','tipo_tienda_vec']).show(20,False)\n",
    "df.select(['es_quincena','es_quincena_index','es_quincena_vec']).show(20,False)\n",
    "df.select(['dia_de_la_semana','dia_de_la_semana_index','dia_de_la_semana_vec']).show(20,False)"
   ]
  },
  {
   "cell_type": "markdown",
   "metadata": {},
   "source": [
    "Creamos un único vector de features y clase usando \"VectorAssembler\"\n",
    "\n",
    "Este vector será usando en el entrenamiento del modelo\n",
    "   "
   ]
  },
  {
   "cell_type": "code",
   "execution_count": 12,
   "metadata": {},
   "outputs": [],
   "source": [
    "from pyspark.ml.feature import VectorAssembler"
   ]
  },
  {
   "cell_type": "markdown",
   "metadata": {},
   "source": [
    "Construimos el vector usando solo los siguientes atributos:\n",
    "1. tipo_tienda\n",
    "2. es_quincena\n",
    "3. dia_de_la_semana\n",
    "4. horas_operacion   <<<--- este corresponde a la cantidad de horas que operó la tienda en el día espcífico\n",
    "5. pos_en_uso    <<<-- corresponde a la cantidad de puntos de venta (cajas registradoras) que operaron en el día"
   ]
  },
  {
   "cell_type": "code",
   "execution_count": 13,
   "metadata": {},
   "outputs": [],
   "source": [
    "df_assembler = VectorAssembler(inputCols=                             \n",
    "['tipo_tienda_vec',\n",
    " 'es_quincena_vec',\n",
    " 'dia_de_la_semana_vec',\n",
    " 'horas_operacion',\n",
    " 'pos_en_uso'], \n",
    "                               \n",
    "outputCol=\"features\")\n",
    "\n",
    "df = df_assembler.transform(df)"
   ]
  },
  {
   "cell_type": "markdown",
   "metadata": {},
   "source": [
    "Imprimimos los primeros 20 resultados, con los datos categóricos en vector"
   ]
  },
  {
   "cell_type": "code",
   "execution_count": 14,
   "metadata": {
    "scrolled": true
   },
   "outputs": [
    {
     "name": "stdout",
     "output_type": "stream",
     "text": [
      "+----------------------------------------+-----+\n",
      "|features                                |label|\n",
      "+----------------------------------------+-----+\n",
      "|(11,[0,3,9,10],[1.0,1.0,11.0,4.0])      |0    |\n",
      "|(11,[0,7,9,10],[1.0,1.0,11.0,4.0])      |1    |\n",
      "|(11,[0,5,9,10],[1.0,1.0,11.0,4.0])      |0    |\n",
      "|(11,[0,2,9,10],[1.0,1.0,11.0,4.0])      |0    |\n",
      "|(11,[0,2,8,9,10],[1.0,1.0,1.0,12.0,4.0])|0    |\n",
      "|(11,[0,2,6,9,10],[1.0,1.0,1.0,15.0,4.0])|0    |\n",
      "|(11,[0,2,4,9,10],[1.0,1.0,1.0,16.0,4.0])|0    |\n",
      "|(11,[0,2,3,9,10],[1.0,1.0,1.0,12.0,4.0])|0    |\n",
      "|(11,[0,2,7,9,10],[1.0,1.0,1.0,11.0,4.0])|0    |\n",
      "|(11,[0,2,5,9,10],[1.0,1.0,1.0,10.0,4.0])|0    |\n",
      "|(11,[0,2,9,10],[1.0,1.0,11.0,4.0])      |0    |\n",
      "|(11,[0,2,8,9,10],[1.0,1.0,1.0,11.0,4.0])|0    |\n",
      "|(11,[0,6,9,10],[1.0,1.0,14.0,4.0])      |0    |\n",
      "|(11,[0,4,9,10],[1.0,1.0,13.0,4.0])      |0    |\n",
      "|(11,[0,3,9,10],[1.0,1.0,11.0,4.0])      |0    |\n",
      "|(11,[0,7,9,10],[1.0,1.0,11.0,4.0])      |0    |\n",
      "|(11,[0,5,9,10],[1.0,1.0,11.0,4.0])      |0    |\n",
      "|(11,[0,2,9,10],[1.0,1.0,9.0,4.0])       |0    |\n",
      "|(11,[0,2,8,9,10],[1.0,1.0,1.0,11.0,4.0])|0    |\n",
      "|(11,[0,2,6,9,10],[1.0,1.0,1.0,15.0,4.0])|0    |\n",
      "+----------------------------------------+-----+\n",
      "only showing top 20 rows\n",
      "\n"
     ]
    }
   ],
   "source": [
    "df.select(['features','label']).show(20,False)"
   ]
  },
  {
   "cell_type": "markdown",
   "metadata": {},
   "source": [
    "Ya que tenemos los datos depurados y los features seleccionados, contruimos el modelo de aprendizaje automático"
   ]
  },
  {
   "cell_type": "code",
   "execution_count": 15,
   "metadata": {},
   "outputs": [],
   "source": [
    "#seleccionamos los datos para features y label, que usará el modelo\n",
    "model_df=df.select(['features','label'])\n",
    "\n",
    "#partimos los datos en entrenamiento (75%) y prueba (25%)\n",
    "training_df,test_df = model_df.randomSplit([0.75,0.25])\n"
   ]
  },
  {
   "cell_type": "markdown",
   "metadata": {},
   "source": [
    "Exploramos los conjuntos de entrenamiento y pruebas, para confirmar que mantiene una proporción similar al conjunto original (aprox 30% de clase 1)"
   ]
  },
  {
   "cell_type": "code",
   "execution_count": 16,
   "metadata": {},
   "outputs": [
    {
     "name": "stdout",
     "output_type": "stream",
     "text": [
      "conjunto de entrenamiento:  17052\n"
     ]
    },
    {
     "data": {
      "text/html": [
       "<div>\n",
       "<style scoped>\n",
       "    .dataframe tbody tr th:only-of-type {\n",
       "        vertical-align: middle;\n",
       "    }\n",
       "\n",
       "    .dataframe tbody tr th {\n",
       "        vertical-align: top;\n",
       "    }\n",
       "\n",
       "    .dataframe thead th {\n",
       "        text-align: right;\n",
       "    }\n",
       "</style>\n",
       "<table border=\"1\" class=\"dataframe\">\n",
       "  <thead>\n",
       "    <tr style=\"text-align: right;\">\n",
       "      <th></th>\n",
       "      <th>label</th>\n",
       "      <th>count</th>\n",
       "    </tr>\n",
       "  </thead>\n",
       "  <tbody>\n",
       "    <tr>\n",
       "      <th>0</th>\n",
       "      <td>1</td>\n",
       "      <td>5447</td>\n",
       "    </tr>\n",
       "    <tr>\n",
       "      <th>1</th>\n",
       "      <td>0</td>\n",
       "      <td>11605</td>\n",
       "    </tr>\n",
       "  </tbody>\n",
       "</table>\n",
       "</div>"
      ],
      "text/plain": [
       "   label  count\n",
       "0      1   5447\n",
       "1      0  11605"
      ]
     },
     "execution_count": 16,
     "metadata": {},
     "output_type": "execute_result"
    }
   ],
   "source": [
    "print (\"conjunto de entrenamiento: \",training_df.count())\n",
    "training_df.groupBy('label').count().toPandas()\n"
   ]
  },
  {
   "cell_type": "code",
   "execution_count": 17,
   "metadata": {},
   "outputs": [
    {
     "name": "stdout",
     "output_type": "stream",
     "text": [
      "conjunto de prueba:  5581\n"
     ]
    },
    {
     "data": {
      "text/html": [
       "<div>\n",
       "<style scoped>\n",
       "    .dataframe tbody tr th:only-of-type {\n",
       "        vertical-align: middle;\n",
       "    }\n",
       "\n",
       "    .dataframe tbody tr th {\n",
       "        vertical-align: top;\n",
       "    }\n",
       "\n",
       "    .dataframe thead th {\n",
       "        text-align: right;\n",
       "    }\n",
       "</style>\n",
       "<table border=\"1\" class=\"dataframe\">\n",
       "  <thead>\n",
       "    <tr style=\"text-align: right;\">\n",
       "      <th></th>\n",
       "      <th>label</th>\n",
       "      <th>count</th>\n",
       "    </tr>\n",
       "  </thead>\n",
       "  <tbody>\n",
       "    <tr>\n",
       "      <th>0</th>\n",
       "      <td>1</td>\n",
       "      <td>1775</td>\n",
       "    </tr>\n",
       "    <tr>\n",
       "      <th>1</th>\n",
       "      <td>0</td>\n",
       "      <td>3806</td>\n",
       "    </tr>\n",
       "  </tbody>\n",
       "</table>\n",
       "</div>"
      ],
      "text/plain": [
       "   label  count\n",
       "0      1   1775\n",
       "1      0   3806"
      ]
     },
     "execution_count": 17,
     "metadata": {},
     "output_type": "execute_result"
    }
   ],
   "source": [
    "print (\"conjunto de prueba: \",test_df.count())\n",
    "test_df.groupBy('label').count().toPandas()"
   ]
  },
  {
   "cell_type": "markdown",
   "metadata": {},
   "source": [
    "Usamos los conjuntos training_df,test_df para los siguientes algoritmos:"
   ]
  },
  {
   "cell_type": "markdown",
   "metadata": {},
   "source": [
    "**LOGISTIC REGRESSION**"
   ]
  },
  {
   "cell_type": "code",
   "execution_count": 18,
   "metadata": {},
   "outputs": [
    {
     "name": "stdout",
     "output_type": "stream",
     "text": [
      "Logistic regression \n",
      "\n",
      "Accuracy:  0.83390073463537\n",
      "weighted Precision:  0.830579978477522\n",
      "Area under ROC:  0.8876522614404243\n",
      "Recall por label:  [0.906463478717814, 0.6783098591549296]\n"
     ]
    }
   ],
   "source": [
    "from pyspark.ml.classification import LogisticRegression\n",
    "\n",
    "#Entrenar\n",
    "log_reg=LogisticRegression().fit(training_df)\n",
    "lr_summary=log_reg.summary\n",
    "\n",
    "#Probar\n",
    "model_predictions = log_reg.transform(test_df)\n",
    "\n",
    "#Evaluar\n",
    "model_predictions = log_reg.evaluate(test_df)\n",
    "print (\"Logistic regression \\n\")\n",
    "print (\"Accuracy: \",model_predictions.accuracy)\n",
    "print (\"weighted Precision: \",model_predictions.weightedPrecision)\n",
    "print(\"Area under ROC: \",model_predictions.areaUnderROC)\n",
    "print(\"Recall por label: \",model_predictions.recallByLabel)\n"
   ]
  },
  {
   "cell_type": "markdown",
   "metadata": {},
   "source": [
    "**DECISION TREE**"
   ]
  },
  {
   "cell_type": "code",
   "execution_count": 19,
   "metadata": {},
   "outputs": [
    {
     "name": "stdout",
     "output_type": "stream",
     "text": [
      "Decision Tree \n",
      "\n",
      "Train weightedPrecision = 0.8238403280177266\n",
      "Test weightedPrecision = 0.829716632492625\n",
      "\n",
      "\n",
      "Train weightedRecall = 0.8275275627492376\n",
      "Test weightedRecall = 0.8331840172012184\n",
      "\n",
      "\n",
      "Train accuracy = 0.8275275627492377\n",
      "Test accuracy = 0.8331840172012184\n",
      "\n",
      "\n"
     ]
    }
   ],
   "source": [
    "from pyspark.ml.classification import DecisionTreeClassifier\n",
    "from pyspark.ml.evaluation import MulticlassClassificationEvaluator\n",
    "\n",
    "# Entrenar\n",
    "dt = DecisionTreeClassifier().fit(training_df)\n",
    "\n",
    "# Probar\n",
    "predictions = dt.transform(test_df)\n",
    "\n",
    "# Evaluar\n",
    "train_output_df = dt.transform(training_df)\n",
    "test_output_df = predictions\n",
    "\n",
    "metrics = ['weightedPrecision', 'weightedRecall', 'accuracy']\n",
    "print (\"Decision Tree \\n\")\n",
    "for metric in metrics:\n",
    "    evaluator = MulticlassClassificationEvaluator(labelCol=\"label\", predictionCol=\"prediction\", metricName=metric)\n",
    "    print('Train ' + metric + ' = ' + str(evaluator.evaluate(train_output_df)))\n",
    "    print('Test ' + metric + ' = ' + str(evaluator.evaluate(test_output_df)))\n",
    "    print(\"\\n\")\n"
   ]
  },
  {
   "cell_type": "markdown",
   "metadata": {},
   "source": [
    "**RANDOM FOREST**"
   ]
  },
  {
   "cell_type": "code",
   "execution_count": 20,
   "metadata": {},
   "outputs": [
    {
     "name": "stdout",
     "output_type": "stream",
     "text": [
      "Random Forest \n",
      "\n",
      "Train weightedPrecision = 0.8193227877460927\n",
      "Test weightedPrecision = 0.8236682577747989\n",
      "\n",
      "\n",
      "Train weightedRecall = 0.8213699272812574\n",
      "Test weightedRecall = 0.8258376635011646\n",
      "\n",
      "\n",
      "Train accuracy = 0.8213699272812574\n",
      "Test accuracy = 0.8258376635011647\n",
      "\n",
      "\n"
     ]
    }
   ],
   "source": [
    "from pyspark.ml.classification import RandomForestClassifier\n",
    "from pyspark.ml.evaluation import MulticlassClassificationEvaluator\n",
    "\n",
    "#Entrenar\n",
    "rf = RandomForestClassifier(numTrees=20).fit(training_df)\n",
    "\n",
    "#Probar\n",
    "predictions = rf.transform(test_df)\n",
    "\n",
    "#Evaluar\n",
    "train_output_df = rf.transform(training_df)\n",
    "test_output_df = predictions\n",
    "\n",
    "metrics = ['weightedPrecision', 'weightedRecall', 'accuracy']\n",
    "print (\"Random Forest \\n\")\n",
    "for metric in metrics:\n",
    "    evaluator = MulticlassClassificationEvaluator(labelCol=\"label\", predictionCol=\"prediction\", metricName=metric)\n",
    "    print('Train ' + metric + ' = ' + str(evaluator.evaluate(train_output_df)))\n",
    "    print('Test ' + metric + ' = ' + str(evaluator.evaluate(test_output_df)))\n",
    "    print(\"\\n\")"
   ]
  },
  {
   "cell_type": "markdown",
   "metadata": {},
   "source": [
    "**GRADIENT-BOOSTED TREE**"
   ]
  },
  {
   "cell_type": "code",
   "execution_count": 21,
   "metadata": {},
   "outputs": [
    {
     "name": "stdout",
     "output_type": "stream",
     "text": [
      "Gradient-Boosted Tree \n",
      "\n",
      "Train weightedPrecision = 0.85496042303414\n",
      "Test weightedPrecision = 0.8550221553564078\n",
      "\n",
      "\n",
      "Train weightedRecall = 0.8555594651653765\n",
      "Test weightedRecall = 0.8550438989428417\n",
      "\n",
      "\n",
      "Train accuracy = 0.8555594651653765\n",
      "Test accuracy = 0.8550438989428418\n",
      "\n",
      "\n"
     ]
    }
   ],
   "source": [
    "from pyspark.ml.classification import GBTClassifier\n",
    "from pyspark.ml.evaluation import MulticlassClassificationEvaluator\n",
    "\n",
    "#Entrenar\n",
    "gbt = GBTClassifier(maxIter=50).fit(training_df)\n",
    "\n",
    "#Probar\n",
    "predictions = gbt.transform(test_df)\n",
    "\n",
    "#Evaluar\n",
    "train_output_df = gbt.transform(training_df)\n",
    "test_output_df = predictions\n",
    "\n",
    "metrics = ['weightedPrecision', 'weightedRecall', 'accuracy']\n",
    "print (\"Gradient-Boosted Tree \\n\")\n",
    "for metric in metrics:\n",
    "    evaluator = MulticlassClassificationEvaluator(labelCol=\"label\", predictionCol=\"prediction\", metricName=metric)\n",
    "    print('Train ' + metric + ' = ' + str(evaluator.evaluate(train_output_df)))\n",
    "    print('Test ' + metric + ' = ' + str(evaluator.evaluate(test_output_df)))\n",
    "    print(\"\\n\")\n"
   ]
  },
  {
   "cell_type": "markdown",
   "metadata": {},
   "source": [
    "## Conclusiones:\n",
    "\n",
    "Los 4 modelos dieron resultados similares, siendo el de mejores métricas el \"Gradient-Boosted Tree configurado en 50 iteraciones (después de probar varios hiperparámetros)\n",
    "\n",
    "Comparando los resultados del train y el test, se puede concluir que el modelo esta fitting (ni over ni under)\n",
    "\n",
    "Con resultados de métrias cercanas al 85% podemos decir que el conjunto de datos y los modelos construidos a partir de estos, serían útilies para predecir días de altas ventas.\n",
    "\n",
    "Puede usarse como herramienta para que el departamento de Operaciones de las tiendas se prepare con horarios, cantidad de personal, previsión de materia prima, etc., y así evitar errores en proyecciones que pudieran generar desperdicios (en caso de suponer un día de altas ventas cuando no lo sea) o no lograr potenciar sus ventas y dar mala experiencia a sus clientes (por suponer un día de bajas ventas, cuando eran altas realmente). También sería útil para un departamento de Mercadeo que conozca con mayor certeza qué días generar acciones para atraer más clientes, o que día sus promociones serán más efectivas si están destinadas a días bajo o altos de ventas.\n",
    "\n"
   ]
  },
  {
   "cell_type": "code",
   "execution_count": null,
   "metadata": {},
   "outputs": [],
   "source": []
  }
 ],
 "metadata": {
  "kernelspec": {
   "display_name": "Python 3",
   "language": "python",
   "name": "python3"
  },
  "language_info": {
   "codemirror_mode": {
    "name": "ipython",
    "version": 3
   },
   "file_extension": ".py",
   "mimetype": "text/x-python",
   "name": "python",
   "nbconvert_exporter": "python",
   "pygments_lexer": "ipython3",
   "version": "3.7.5"
  }
 },
 "nbformat": 4,
 "nbformat_minor": 2
}
