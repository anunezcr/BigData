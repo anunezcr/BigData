{
 "cells": [
  {
   "cell_type": "markdown",
   "metadata": {},
   "source": [
    "## Proyecto final\n",
    "## Curso: BigData\n",
    "## Programa: Data Science\n",
    "### Streaming, intregración con Twitter    \n",
    "### Alonso Nuñez Sanchez"
   ]
  },
  {
   "cell_type": "markdown",
   "metadata": {},
   "source": [
    "### Importar librerías"
   ]
  },
  {
   "cell_type": "code",
   "execution_count": 1,
   "metadata": {},
   "outputs": [],
   "source": [
    "import socket\n",
    "import sys\n",
    "import requests\n",
    "import requests_oauthlib\n",
    "import json\n",
    "import time"
   ]
  },
  {
   "cell_type": "markdown",
   "metadata": {},
   "source": [
    "Datos de conexión al API de Twitter.\n",
    "\n",
    "Previamente fue necesario crear una cuenta de tipo desarrollador en Twitter"
   ]
  },
  {
   "cell_type": "code",
   "execution_count": 2,
   "metadata": {},
   "outputs": [],
   "source": [
    "ACCESS_TOKEN = '92690221-B4imevK0Bo7hhAlA4CwhVlDq4bUvKTJgaIMM5l3IG'\n",
    "ACCESS_SECRET = 'g4gA9UfyuRariMz88D6d8D3UWGzNzYQRp5Rc3zeYrjXas'\n",
    "CONSUMER_KEY = 'anPBf9SWRMF7l2V3SGooxOuEP'\n",
    "CONSUMER_SECRET = 'zkx9LcWcZYkPFPlJl2T8BjfySy5XKqkXwpXsr1qSRCbqpXkcZA'\n",
    "my_auth = requests_oauthlib.OAuth1(CONSUMER_KEY, CONSUMER_SECRET,ACCESS_TOKEN, ACCESS_SECRET)"
   ]
  },
  {
   "cell_type": "markdown",
   "metadata": {},
   "source": [
    "usaremos una funcionalidad del API de Twitter para obtener datos en streaming, a partir de ciertas condiciones/filtros\n",
    "\n",
    "documentación en: https://developer.twitter.com/en/docs/tweets/filter-realtime/api-reference/post-statuses-filter\n",
    "\n",
    "creamos una función para obtener tweets, la respuesta es un stream de tweets que coincidan con los filtros "
   ]
  },
  {
   "cell_type": "code",
   "execution_count": 3,
   "metadata": {},
   "outputs": [],
   "source": [
    "def obtener_tweets():\n",
    "        \turl = 'https://stream.twitter.com/1.1/statuses/filter.json'\n",
    "        \tquery_data = [('language', 'es,en'), ('locations', '-85,8,-30,75')] #Centro y Norteamerica\n",
    "            #query_data = [('language', 'es,en'), ('locations', '-92.5,7.5,-75,17')] #CentroAmerica\n",
    "            #query_data = [('language', 'es,en'), ('locations', '-85,8,-83,11')] #Costa Rica         \n",
    "            #query_data = [('language', 'en,es'), ('locations', '-85,8,-30,75'),('track','#')] #Norteamerica\n",
    "            #query_data = [('language', 'en,es'), ('locations', '-142,-50,-30,75'),('track', '#')] #America            \n",
    "                       \n",
    "        \tquery_url = url + '?' + '&'.join([str(t[0]) + '=' + str(t[1]) for t in query_data])\n",
    "        \tresponse = requests.get(query_url, auth=my_auth, stream=True)\n",
    "        \tprint(query_url, response)\n",
    "        \treturn response"
   ]
  },
  {
   "cell_type": "markdown",
   "metadata": {},
   "source": [
    "estructura del archivo json recibido: https://developer.twitter.com/en/docs/tweets/data-dictionary/overview/intro-to-tweet-json          "
   ]
  },
  {
   "cell_type": "code",
   "execution_count": 4,
   "metadata": {},
   "outputs": [],
   "source": [
    "def enviar_tweets_a_spark(http_resp, tcp_connection):\n",
    "        for line in http_resp.iter_lines():\n",
    "            try:\n",
    "                full_tweet = json.loads(line)\n",
    "                if full_tweet['entities']['hashtags'] != []: #filtra solo los tweets que contengan hashtags\n",
    "                    tweet_text = full_tweet['text']                \n",
    "                    tweet_text_encode = (tweet_text + '\\n').encode('utf-8')\n",
    "                    print(tweet_text)\n",
    "                    print (\"------------------------------------------\")\n",
    "                    \n",
    "                    tcp_connection.send(tweet_text_encode)                \n",
    "            except:\n",
    "                e = sys.exc_info()[1]\n",
    "                print(\"Error: %s\" % e)"
   ]
  },
  {
   "cell_type": "code",
   "execution_count": null,
   "metadata": {
    "scrolled": true
   },
   "outputs": [
    {
     "name": "stdout",
     "output_type": "stream",
     "text": [
      "Waiting for TCP connection...\n",
      "Connected... Starting getting tweets.\n",
      "https://stream.twitter.com/1.1/statuses/filter.json?language=es,en&locations=-85,8,-30,75 <Response [200]>\n",
      "#trapmusic\n",
      "Check out this great gig I've got from #fiverr https://t.co/imhP0Fag0Y\n",
      "------------------------------------------\n",
      "Wow oh what a feeling wish my kids could see there mom #RIH\n",
      "------------------------------------------\n"
     ]
    }
   ],
   "source": [
    "TCP_IP = \"localhost\"\n",
    "TCP_PORT = 9009\n",
    "conn = None\n",
    "s = socket.socket(socket.AF_INET, socket.SOCK_STREAM)\n",
    "s.bind((TCP_IP, TCP_PORT))\n",
    "s.listen(1)\n",
    "print(\"Waiting for TCP connection...\")\n",
    "conn, addr = s.accept()\n",
    "print(\"Connected... Starting getting tweets.\")\n",
    "resp = obtener_tweets()\n",
    "enviar_tweets_a_spark(resp, conn)"
   ]
  },
  {
   "cell_type": "code",
   "execution_count": null,
   "metadata": {},
   "outputs": [],
   "source": []
  }
 ],
 "metadata": {
  "kernelspec": {
   "display_name": "Python 3",
   "language": "python",
   "name": "python3"
  },
  "language_info": {
   "codemirror_mode": {
    "name": "ipython",
    "version": 3
   },
   "file_extension": ".py",
   "mimetype": "text/x-python",
   "name": "python",
   "nbconvert_exporter": "python",
   "pygments_lexer": "ipython3",
   "version": "3.7.5"
  }
 },
 "nbformat": 4,
 "nbformat_minor": 2
}
