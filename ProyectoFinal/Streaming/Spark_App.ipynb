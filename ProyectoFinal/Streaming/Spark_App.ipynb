{
 "cells": [
  {
   "cell_type": "markdown",
   "metadata": {},
   "source": [
    "## Proyecto final\n",
    "## Curso: BigData\n",
    "## Programa: Data Science\n",
    "### Streaming, intregración con Twitter    \n",
    "### Alonso Nuñez Sanchez"
   ]
  },
  {
   "cell_type": "code",
   "execution_count": 1,
   "metadata": {},
   "outputs": [],
   "source": [
    "from pyspark import SparkConf,SparkContext\n",
    "from pyspark.streaming import StreamingContext\n",
    "from pyspark.sql import Row,SQLContext\n",
    "import sys\n",
    "import requests\n",
    "import findspark\n",
    "findspark.init('c:\\spark')\n",
    "# crea una configuración spark\n",
    "conf = SparkConf()\n",
    "conf.setAppName(\"TwitterStreamApp\")\n",
    "# crea un contexto spark con la configuración anterior\n",
    "sc = SparkContext(conf=conf)\n",
    "sc.setLogLevel(\"ERROR\")\n",
    "# crea el Contexto Streaming desde el contexto spark visto arriba con intervalo de 2 segundos\n",
    "ssc = StreamingContext(sc, 2)\n",
    "# establece un punto de control para permitir la recuperación de RDD\n",
    "ssc.checkpoint(\"checkpoint_TwitterApp\")\n",
    "# lee data del puerto 9009\n",
    "dataStream = ssc.socketTextStream(\"localhost\",9009)"
   ]
  },
  {
   "cell_type": "code",
   "execution_count": 2,
   "metadata": {},
   "outputs": [],
   "source": [
    "def aggregate_tags_count(new_values, total_sum):    \n",
    "    return sum(new_values) + (total_sum or 0)\n"
   ]
  },
  {
   "cell_type": "code",
   "execution_count": 3,
   "metadata": {},
   "outputs": [],
   "source": [
    "def get_sql_context_instance(spark_context):\n",
    "                if ('sqlContextSingletonInstance' not in globals()):\n",
    "                    globals()['sqlContextSingletonInstance'] = SQLContext(spark_context)\n",
    "                return globals()['sqlContextSingletonInstance']\n",
    "            \n",
    "def process_rdd(time, rdd):\n",
    "        \tprint(\"----------- %s -----------\" % str(time))\n",
    "        \ttry:\n",
    "        \t# obtén el contexto spark sql singleton desde el contexto actual\n",
    "                    sql_context = get_sql_context_instance(rdd.context)                    \n",
    "        \t# convierte el RDD a Row RDD\n",
    "                    row_rdd = rdd.map(lambda w: Row(hashtag=w[0], contador=w[1]))                    \n",
    "                    #\n",
    "        \t# crea un DF desde el Row RDD\n",
    "                    hashtags_df = sql_context.createDataFrame(row_rdd)                    \n",
    "        \t# Registra el marco de data como tabla\n",
    "                    hashtags_df.registerTempTable(\"hashtags\")                    \n",
    "        \t# obtén los 10 mejores hashtags de la tabla utilizando SQL e imprímelos\n",
    "                    hashtag_counts_df = sql_context.sql(\"select hashtag, contador from hashtags order by contador desc limit 10\")                    \n",
    "                    #\n",
    "                    hashtag_counts_df.show()                    \n",
    "        \t# llama a este método para preparar los 10 mejores hashtags DF y envíalos\n",
    "                    \n",
    "        \texcept:\n",
    "                    e = sys.exc_info()[0]\n",
    "                    #print(\"Error: %s\" % e)"
   ]
  },
  {
   "cell_type": "code",
   "execution_count": null,
   "metadata": {},
   "outputs": [
    {
     "name": "stdout",
     "output_type": "stream",
     "text": [
      "----------- 2020-02-09 02:26:36 -----------\n",
      "----------- 2020-02-09 02:26:38 -----------\n",
      "----------- 2020-02-09 02:26:40 -----------\n",
      "----------- 2020-02-09 02:26:42 -----------\n"
     ]
    }
   ],
   "source": [
    "# divide cada Tweet en palabras\n",
    "words = dataStream.flatMap(lambda line: line.split(\" \"))\n",
    "# filtra las palabras para obtener solo hashtags, luego mapea cada hashtag para que sea un par de (hashtag,1)\n",
    "hashtags = words.filter(lambda w: '#' in w).map(lambda x: (x, 1))\n",
    "# agrega la cuenta de cada hashtag a su última cuenta\n",
    "tags_totals = hashtags.updateStateByKey(aggregate_tags_count)\n",
    "# procesa cada RDD generado en cada intervalo\n",
    "tags_totals.foreachRDD(process_rdd)\n",
    "# comienza la computación de streaming\n",
    "ssc.start()\n",
    "# espera que la transmisión termine\n",
    "ssc.awaitTermination()\n",
    "\n"
   ]
  }
 ],
 "metadata": {
  "kernelspec": {
   "display_name": "Python 3",
   "language": "python",
   "name": "python3"
  },
  "language_info": {
   "codemirror_mode": {
    "name": "ipython",
    "version": 3
   },
   "file_extension": ".py",
   "mimetype": "text/x-python",
   "name": "python",
   "nbconvert_exporter": "python",
   "pygments_lexer": "ipython3",
   "version": "3.7.5"
  }
 },
 "nbformat": 4,
 "nbformat_minor": 2
}
