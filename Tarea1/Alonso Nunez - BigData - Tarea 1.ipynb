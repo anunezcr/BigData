{
 "cells": [
  {
   "cell_type": "markdown",
   "metadata": {},
   "source": [
    "# Curso: Big Data - Tarea 1\n",
    "## Alonso Nuñez\n",
    "## Fecha de entrega: 25 noviembre 2019"
   ]
  },
  {
   "cell_type": "markdown",
   "metadata": {},
   "source": [
    "Importación de dependencias"
   ]
  },
  {
   "cell_type": "code",
   "execution_count": 95,
   "metadata": {},
   "outputs": [],
   "source": [
    "from pyspark.sql import SparkSession\n",
    "\n",
    "spark=SparkSession.builder.appName('data_processing').getOrCreate()\n",
    "\n",
    "import pyspark.sql.functions as F\n",
    "from pyspark.sql.types import *\n",
    "\n",
    "import findspark\n",
    "findspark.init('c:\\spark')\n",
    "\n",
    "from datetime import datetime\n",
    "from pyspark.sql import SparkSession\n",
    "from pyspark.sql.functions import col, date_format, udf \n",
    "from pyspark.sql.types import DateType\n",
    "\n",
    "from pyspark.sql.functions import lit\n",
    "\n",
    "import pandas as pd\n",
    "from pandas import read_csv"
   ]
  },
  {
   "cell_type": "markdown",
   "metadata": {},
   "source": [
    "Creación del esquema (estructura de columnas a usar para crear el DataFrame)"
   ]
  },
  {
   "cell_type": "code",
   "execution_count": 10,
   "metadata": {},
   "outputs": [
    {
     "name": "stdout",
     "output_type": "stream",
     "text": [
      "dataset cargado\n"
     ]
    }
   ],
   "source": [
    "schema=StructType().add(\"id_tienda\",\"string\").add(\"tipo_tienda\",\"string\").add(\"provincia\", \"string\").add(\"supervisor\",'string').add(\"mes_del_anio\", \"integer\").add(\"semana_del_anio\", \"integer\").add(\"es_quincena\", \"string\").add(\"es_feriado\", \"string\").add(\"dia_de_la_semana\", \"string\").add(\"horas_operacion\", \"integer\").add(\"pos_en_uso\", \"integer\").add(\"clientes_totales\", \"integer\").add(\"clientes_vip\", \"float\").add(\"volumen\", \"string\")\n"
   ]
  },
  {
   "cell_type": "markdown",
   "metadata": {},
   "source": [
    "Crear el dataframe a partir de un csv leido por url, y usando el esquema anterior"
   ]
  },
  {
   "cell_type": "code",
   "execution_count": 11,
   "metadata": {},
   "outputs": [],
   "source": [
    "clientes = 'https://raw.githubusercontent.com/anunezcr/datasets/master/clientes_diarios_clasif_todasSucursales.csv'\n",
    "dataset =  pd.read_csv(clientes, sep = ',')\n",
    "print(\"dataset cargado\")\n",
    "\n",
    "df=spark.createDataFrame(dataset, schema=schema)"
   ]
  },
  {
   "cell_type": "markdown",
   "metadata": {},
   "source": [
    "Visualizar el esquema del DataFrame:"
   ]
  },
  {
   "cell_type": "code",
   "execution_count": 12,
   "metadata": {},
   "outputs": [
    {
     "name": "stdout",
     "output_type": "stream",
     "text": [
      "root\n",
      " |-- id_tienda: string (nullable = true)\n",
      " |-- tipo_tienda: string (nullable = true)\n",
      " |-- provincia: string (nullable = true)\n",
      " |-- supervisor: string (nullable = true)\n",
      " |-- mes_del_anio: integer (nullable = true)\n",
      " |-- semana_del_anio: integer (nullable = true)\n",
      " |-- es_quincena: string (nullable = true)\n",
      " |-- es_feriado: string (nullable = true)\n",
      " |-- dia_de_la_semana: string (nullable = true)\n",
      " |-- horas_operacion: integer (nullable = true)\n",
      " |-- pos_en_uso: integer (nullable = true)\n",
      " |-- clientes_totales: integer (nullable = true)\n",
      " |-- clientes_vip: float (nullable = true)\n",
      " |-- volumen: string (nullable = true)\n",
      "\n"
     ]
    }
   ],
   "source": [
    "df.printSchema()"
   ]
  },
  {
   "cell_type": "markdown",
   "metadata": {},
   "source": [
    "Visualizar el DataFrame:"
   ]
  },
  {
   "cell_type": "code",
   "execution_count": 13,
   "metadata": {},
   "outputs": [
    {
     "name": "stdout",
     "output_type": "stream",
     "text": [
      "+---------+-----------+---------+-----------+------------+---------------+-----------+----------+----------------+---------------+----------+----------------+------------+-------+\n",
      "|id_tienda|tipo_tienda|provincia| supervisor|mes_del_anio|semana_del_anio|es_quincena|es_feriado|dia_de_la_semana|horas_operacion|pos_en_uso|clientes_totales|clientes_vip|volumen|\n",
      "+---------+-----------+---------+-----------+------------+---------------+-----------+----------+----------------+---------------+----------+----------------+------------+-------+\n",
      "|       12|         FS| SAN JOSE|2015622_080|           1|              1| VERDADERO |Anio Nuevo|           Lunes|             11|         4|             210|        23.0|  medio|\n",
      "|       12|         FS| SAN JOSE|2015622_080|           1|              1| VERDADERO |       NO |          Martes|             11|         4|             306|        17.0|   alto|\n",
      "+---------+-----------+---------+-----------+------------+---------------+-----------+----------+----------------+---------------+----------+----------------+------------+-------+\n",
      "only showing top 2 rows\n",
      "\n"
     ]
    }
   ],
   "source": [
    "df.show(2)"
   ]
  },
  {
   "cell_type": "markdown",
   "metadata": {},
   "source": [
    "Comienza análisis de datos:"
   ]
  },
  {
   "cell_type": "code",
   "execution_count": 14,
   "metadata": {},
   "outputs": [
    {
     "data": {
      "text/plain": [
       "22633"
      ]
     },
     "execution_count": 14,
     "metadata": {},
     "output_type": "execute_result"
    }
   ],
   "source": [
    "df.count()"
   ]
  },
  {
   "cell_type": "code",
   "execution_count": 15,
   "metadata": {},
   "outputs": [
    {
     "data": {
      "text/plain": [
       "14"
      ]
     },
     "execution_count": 15,
     "metadata": {},
     "output_type": "execute_result"
    }
   ],
   "source": [
    "len(df.columns)"
   ]
  },
  {
   "cell_type": "markdown",
   "metadata": {},
   "source": [
    "Mostrar solo unas columnas y filas:"
   ]
  },
  {
   "cell_type": "code",
   "execution_count": 18,
   "metadata": {},
   "outputs": [
    {
     "name": "stdout",
     "output_type": "stream",
     "text": [
      "+----------------+---------------+----------------+\n",
      "|dia_de_la_semana|horas_operacion|clientes_totales|\n",
      "+----------------+---------------+----------------+\n",
      "|           Lunes|             11|             210|\n",
      "|          Martes|             11|             306|\n",
      "|       Miercoles|             11|             203|\n",
      "|          Jueves|             11|             192|\n",
      "|         Viernes|             12|             229|\n",
      "|          Sabado|             15|             225|\n",
      "|         Domingo|             16|             224|\n",
      "|           Lunes|             12|             179|\n",
      "|          Martes|             11|             268|\n",
      "|       Miercoles|             10|             215|\n",
      "|          Jueves|             11|             235|\n",
      "|         Viernes|             11|             286|\n",
      "|          Sabado|             14|             250|\n",
      "|         Domingo|             13|             203|\n",
      "|           Lunes|             11|             208|\n",
      "|          Martes|             11|             239|\n",
      "|       Miercoles|             11|             225|\n",
      "|          Jueves|              9|             250|\n",
      "|         Viernes|             11|             296|\n",
      "|          Sabado|             15|             287|\n",
      "+----------------+---------------+----------------+\n",
      "only showing top 20 rows\n",
      "\n"
     ]
    }
   ],
   "source": [
    "df.select(['dia_de_la_semana','horas_operacion','clientes_totales']).show()"
   ]
  },
  {
   "cell_type": "markdown",
   "metadata": {},
   "source": [
    "# Operaciones vistas en clase:"
   ]
  },
  {
   "cell_type": "markdown",
   "metadata": {},
   "source": [
    "## 1. Mostrar solo ciertos datos a partir de un criterio, y filtrado con comando & (and)"
   ]
  },
  {
   "cell_type": "code",
   "execution_count": 35,
   "metadata": {},
   "outputs": [
    {
     "name": "stdout",
     "output_type": "stream",
     "text": [
      "Registros con 500 o más clientes diarios por local:  738\n"
     ]
    }
   ],
   "source": [
    "print('Registros con 500 o más clientes diarios por local: ',df.filter(df['clientes_totales'] > 500).count())"
   ]
  },
  {
   "cell_type": "code",
   "execution_count": 34,
   "metadata": {},
   "outputs": [
    {
     "name": "stdout",
     "output_type": "stream",
     "text": [
      "El  3.2607254893297397 % de los registros corresponde a 500 clientes o más en un solo día\n"
     ]
    }
   ],
   "source": [
    "print('El ', df.filter(df['clientes_totales'] > 500).count() / df.count()*100, '% de los registros corresponde a 500 clientes o más por local en un solo día')"
   ]
  },
  {
   "cell_type": "markdown",
   "metadata": {},
   "source": [
    "500 clientes diarios, separado por día de la semana:"
   ]
  },
  {
   "cell_type": "code",
   "execution_count": 49,
   "metadata": {},
   "outputs": [
    {
     "name": "stdout",
     "output_type": "stream",
     "text": [
      "500 o más clientes por día de la semana\n",
      "\n",
      "Lunes:  44\n",
      "Martes:  54\n",
      "Miercoles:  38\n",
      "Jueves:  57\n",
      "Viernes:  215\n",
      "Sabado:  262\n",
      "Domingo:  68\n"
     ]
    }
   ],
   "source": [
    "print('500 o más clientes por día de la semana\\n')\n",
    "print('Lunes: ', df.where((df['clientes_totales'] > 500) & (df['dia_de_la_semana'] == 'Lunes')).count())\n",
    "print('Martes: ', df.where((df['clientes_totales'] > 500) & (df['dia_de_la_semana'] == 'Martes')).count())\n",
    "print('Miercoles: ', df.where((df['clientes_totales'] > 500) & (df['dia_de_la_semana'] == 'Miercoles')).count())\n",
    "print('Jueves: ', df.where((df['clientes_totales'] > 500) & (df['dia_de_la_semana'] == 'Jueves')).count())\n",
    "print('Viernes: ', df.where((df['clientes_totales'] > 500) & (df['dia_de_la_semana'] == 'Viernes')).count())\n",
    "print('Sabado: ', df.where((df['clientes_totales'] > 500) & (df['dia_de_la_semana'] == 'Sabado')).count())\n",
    "print('Domingo: ', df.where((df['clientes_totales'] > 500) & (df['dia_de_la_semana'] == 'Domingo')).count())"
   ]
  },
  {
   "cell_type": "markdown",
   "metadata": {},
   "source": [
    "### Conclusión:\n",
    "Considerando un día de 500 clientes diarios como un día de alto volumen de ventas, tenemos:\n",
    "\n",
    "Los Viernes y Sabados son los días en que las tiendas necesitan mayor cantidad de personal para atender la demanda de clientes\n",
    "Los Domingos aunque están en el 3er lugar están lejos de lo que significa un viernes o sábado\n",
    "Por lo tanto, es incorrecto pensar que los 3 días del fin de semana se requiere la misma cantidad de personal\n",
    "La empresa podría incrementar productividad y ahorrar costos, si toma esta consideración y deja de pensar en los 3 días de fin de semana como iguales\n",
    "\n",
    "El domingo (68) está más cercano a un jueves o martes (54-57), que a un sábado a domingo (215-262)"
   ]
  },
  {
   "cell_type": "markdown",
   "metadata": {},
   "source": [
    "## 2. Contador por categorías"
   ]
  },
  {
   "cell_type": "code",
   "execution_count": 50,
   "metadata": {},
   "outputs": [
    {
     "name": "stdout",
     "output_type": "stream",
     "text": [
      "+---------------+-----+\n",
      "|horas_operacion|count|\n",
      "+---------------+-----+\n",
      "|             12| 3347|\n",
      "|             22|    7|\n",
      "|              1|    9|\n",
      "|             13| 1890|\n",
      "|             16| 1211|\n",
      "|              6|  114|\n",
      "|              3|   17|\n",
      "|             20|   10|\n",
      "|              5|   38|\n",
      "|             19|   47|\n",
      "|             15| 1155|\n",
      "|              9| 1807|\n",
      "|             17| 1271|\n",
      "|              4|   18|\n",
      "|              8|  631|\n",
      "|             23|    5|\n",
      "|              7|  302|\n",
      "|             10| 4266|\n",
      "|             21|   15|\n",
      "|             11| 4366|\n",
      "+---------------+-----+\n",
      "only showing top 20 rows\n",
      "\n"
     ]
    }
   ],
   "source": [
    "df.groupBy('horas_operacion').count().show()"
   ]
  },
  {
   "cell_type": "markdown",
   "metadata": {},
   "source": [
    "### Análisis por horas de operación:\n",
    "\n",
    "Son pocos los registros de tiendas con operación igual o mayor a 19 horas (menos de 75 registros de los 22633)\n",
    "Estoy podría hacer pensar a la gerencia si conviene o no operar tiendas 24 horas.\n",
    "Convendría un análisis de costo/beneficio"
   ]
  },
  {
   "cell_type": "code",
   "execution_count": 51,
   "metadata": {
    "scrolled": true
   },
   "outputs": [
    {
     "name": "stdout",
     "output_type": "stream",
     "text": [
      "+----------+-----+\n",
      "|pos_en_uso|count|\n",
      "+----------+-----+\n",
      "|         1|  244|\n",
      "|         6| 2866|\n",
      "|         3| 3689|\n",
      "|         5| 4406|\n",
      "|         4| 8137|\n",
      "|         8|    7|\n",
      "|         7|  953|\n",
      "|         2| 2274|\n",
      "|         0|   57|\n",
      "+----------+-----+\n",
      "\n"
     ]
    }
   ],
   "source": [
    "df.groupBy('pos_en_uso').count().show()"
   ]
  },
  {
   "cell_type": "markdown",
   "metadata": {},
   "source": [
    "### Análisis por cantidad de cajas registradoras:\n",
    "\n",
    "Se encuentran registros desde 0 hasta 8 cajas operando por día\n",
    "Los extremos de 0 y 8 se pueden considerar excepciones por el bajo porcentaje\n",
    "La moda es 4 cajas usadas por día\n",
    "\n",
    "Esta información podría ser útil en una eventual optimización de recursos, por ejemplo tiendas que tienen 8 cajas registradoras, podría reducirse la cantidad, reduciendo así los inventarios de equipos o reutilizandolos en aperturas futuras reduciendo el presupuesto de inversión"
   ]
  },
  {
   "cell_type": "code",
   "execution_count": 54,
   "metadata": {},
   "outputs": [
    {
     "name": "stdout",
     "output_type": "stream",
     "text": [
      "+-------+-----+\n",
      "|volumen|count|\n",
      "+-------+-----+\n",
      "|   bajo| 1069|\n",
      "|  medio|14342|\n",
      "|   alto| 7222|\n",
      "+-------+-----+\n",
      "\n"
     ]
    }
   ],
   "source": [
    "df.groupBy('volumen').count().show()"
   ]
  },
  {
   "cell_type": "markdown",
   "metadata": {},
   "source": [
    "Con los criterios ya definidos en rangos para determinar volumen bajo, medio, alto, se puede observar que la mayoría de registros son volumen medio, seguido por los altos"
   ]
  },
  {
   "cell_type": "markdown",
   "metadata": {},
   "source": [
    "## 3. Promedio de clientes_totales agrupados por dia_de_la_semana o por mes_del_anio"
   ]
  },
  {
   "cell_type": "code",
   "execution_count": 52,
   "metadata": {
    "scrolled": false
   },
   "outputs": [
    {
     "name": "stdout",
     "output_type": "stream",
     "text": [
      "+----------------+---------------------+\n",
      "|dia_de_la_semana|avg(clientes_totales)|\n",
      "+----------------+---------------------+\n",
      "|          Martes|   246.28420726031646|\n",
      "|       Miercoles|   233.02789832610043|\n",
      "|          Jueves|   238.79292145296492|\n",
      "|           Lunes|   218.76520681265208|\n",
      "|         Domingo|    265.7223427331887|\n",
      "|          Sabado|    317.2076875387477|\n",
      "|         Viernes|   298.79795158286777|\n",
      "+----------------+---------------------+\n",
      "\n"
     ]
    }
   ],
   "source": [
    "df.groupBy('dia_de_la_semana').agg(F.mean('clientes_totales')).show()"
   ]
  },
  {
   "cell_type": "code",
   "execution_count": 53,
   "metadata": {},
   "outputs": [
    {
     "name": "stdout",
     "output_type": "stream",
     "text": [
      "+------------+---------------------+\n",
      "|mes_del_anio|avg(clientes_totales)|\n",
      "+------------+---------------------+\n",
      "|          12|   289.66580976863753|\n",
      "|           1|   258.76054138469544|\n",
      "|           6|    256.3344086021505|\n",
      "|           3|    255.1371220020855|\n",
      "|           5|   243.70083246618105|\n",
      "|           9|    262.3462365591398|\n",
      "|           4|   250.93870967741935|\n",
      "|           8|   264.06607700312173|\n",
      "|           7|    263.6649323621228|\n",
      "|          10|   246.24557752341312|\n",
      "|          11|    268.3945799457995|\n",
      "|           2|   256.34274193548384|\n",
      "+------------+---------------------+\n",
      "\n"
     ]
    }
   ],
   "source": [
    "df.groupBy('mes_del_anio').agg(F.mean('clientes_totales')).show()"
   ]
  },
  {
   "cell_type": "markdown",
   "metadata": {},
   "source": [
    "### Promedio de clientes por día de la semana o por mes del año\n",
    "\n",
    "Podría ser de interés para conocer estacionalidad, y tomar acciones en diferentes aspectos como suministros de materia prima, necesidad de personal, etc."
   ]
  },
  {
   "cell_type": "markdown",
   "metadata": {},
   "source": [
    "## 4. Mostrar los datos un orden ascendente o decendente: "
   ]
  },
  {
   "cell_type": "code",
   "execution_count": 60,
   "metadata": {},
   "outputs": [
    {
     "name": "stdout",
     "output_type": "stream",
     "text": [
      "+---------+-----------+---------+-----------+------------+---------------+-----------+--------------------+----------------+---------------+----------+----------------+------------+-------+\n",
      "|id_tienda|tipo_tienda|provincia| supervisor|mes_del_anio|semana_del_anio|es_quincena|          es_feriado|dia_de_la_semana|horas_operacion|pos_en_uso|clientes_totales|clientes_vip|volumen|\n",
      "+---------+-----------+---------+-----------+------------+---------------+-----------+--------------------+----------------+---------------+----------+----------------+------------+-------+\n",
      "|       13|         IS| SAN JOSE|1972863_080|           7|             30|     FALSO | Anexion del Part...|       Miercoles|             12|         4|             159|        13.0|  medio|\n",
      "|       12|         FS| SAN JOSE|2015622_080|           7|             30|     FALSO | Anexion del Part...|       Miercoles|             12|         4|             202|        24.0|  medio|\n",
      "|       14|         FS| SAN JOSE|2015622_080|           7|             30|     FALSO | Anexion del Part...|       Miercoles|              9|         6|             304|        30.0|   alto|\n",
      "|       17|         FS| SAN JOSE|2027736_080|           7|             30|     FALSO | Anexion del Part...|       Miercoles|             11|         7|             384|        25.0|   alto|\n",
      "|       15|         FS| SAN JOSE|2015622_080|           7|             30|     FALSO | Anexion del Part...|       Miercoles|             11|         5|             187|        16.0|  medio|\n",
      "+---------+-----------+---------+-----------+------------+---------------+-----------+--------------------+----------------+---------------+----------+----------------+------------+-------+\n",
      "only showing top 5 rows\n",
      "\n"
     ]
    }
   ],
   "source": [
    "df.sort(\"es_feriado\").show(5)"
   ]
  },
  {
   "cell_type": "code",
   "execution_count": 61,
   "metadata": {},
   "outputs": [
    {
     "name": "stdout",
     "output_type": "stream",
     "text": [
      "+---------+-----------+---------+-----------+------------+---------------+-----------+------------+----------------+---------------+----------+----------------+------------+-------+\n",
      "|id_tienda|tipo_tienda|provincia| supervisor|mes_del_anio|semana_del_anio|es_quincena|  es_feriado|dia_de_la_semana|horas_operacion|pos_en_uso|clientes_totales|clientes_vip|volumen|\n",
      "+---------+-----------+---------+-----------+------------+---------------+-----------+------------+----------------+---------------+----------+----------------+------------+-------+\n",
      "|      100|         FS|    LIMON|1670344_080|          12|             53| VERDADERO |         NO |           Lunes|              0|         0|             212|        47.0|  medio|\n",
      "|      104|         FS| SAN JOSE|2027736_080|           1|              1|     FALSO |         NO |         Viernes|              0|         4|             173|        12.0|  medio|\n",
      "|      104|         FS| SAN JOSE|2027736_080|           1|              1| VERDADERO | Anio Nuevo |           Lunes|              0|         4|             179|        15.0|  medio|\n",
      "|      104|         FS| SAN JOSE|2027736_080|           1|              1| VERDADERO |         NO |          Martes|              0|         4|             193|        12.0|  medio|\n",
      "|      104|         FS| SAN JOSE|2027736_080|           1|              1| VERDADERO |         NO |       Miercoles|              0|         4|             132|        11.0|  medio|\n",
      "+---------+-----------+---------+-----------+------------+---------------+-----------+------------+----------------+---------------+----------+----------------+------------+-------+\n",
      "only showing top 5 rows\n",
      "\n"
     ]
    }
   ],
   "source": [
    "df.sort(\"horas_operacion\", ascending=True).show(5)"
   ]
  },
  {
   "cell_type": "code",
   "execution_count": 63,
   "metadata": {},
   "outputs": [
    {
     "name": "stdout",
     "output_type": "stream",
     "text": [
      "+---------+-----------+---------+-----------+------------+---------------+-----------+----------+----------------+---------------+----------+----------------+------------+-------+\n",
      "|id_tienda|tipo_tienda|provincia| supervisor|mes_del_anio|semana_del_anio|es_quincena|es_feriado|dia_de_la_semana|horas_operacion|pos_en_uso|clientes_totales|clientes_vip|volumen|\n",
      "+---------+-----------+---------+-----------+------------+---------------+-----------+----------+----------------+---------------+----------+----------------+------------+-------+\n",
      "|       18|         FS| SAN JOSE|1670344_080|           6|             24|     FALSO |       NO |           Lunes|              9|         8|             353|        15.0|   alto|\n",
      "|       14|         FS| SAN JOSE|2015622_080|          11|             44| VERDADERO |       NO |         Viernes|             12|         8|             440|        25.0|   alto|\n",
      "|       18|         FS| SAN JOSE|1670344_080|           5|             18| VERDADERO |       NO |          Jueves|             13|         8|             434|        17.0|   alto|\n",
      "|       14|         FS| SAN JOSE|2015622_080|           6|             24| VERDADERO |       NO |         Viernes|             11|         8|             402|        21.0|   alto|\n",
      "|       19|         FS|  HEREDIA|1966544_080|           6|             23|     FALSO |       NO |         Viernes|             12|         8|             546|        26.0|   alto|\n",
      "+---------+-----------+---------+-----------+------------+---------------+-----------+----------+----------------+---------------+----------+----------------+------------+-------+\n",
      "only showing top 5 rows\n",
      "\n"
     ]
    }
   ],
   "source": [
    "df.sort(\"pos_en_uso\", ascending=False).show(5)"
   ]
  },
  {
   "cell_type": "markdown",
   "metadata": {},
   "source": [
    "## 5. Collect (visto en clase)"
   ]
  },
  {
   "cell_type": "code",
   "execution_count": 62,
   "metadata": {},
   "outputs": [
    {
     "name": "stdout",
     "output_type": "stream",
     "text": [
      "+----------------+----------------------+\n",
      "|clientes_totales|collect_set(provincia)|\n",
      "+----------------+----------------------+\n",
      "|             148|  [ALAJUELA, CARTAG...|\n",
      "|             463|            [SAN JOSE]|\n",
      "|             471|  [ALAJUELA, GUANAC...|\n",
      "|             496|            [SAN JOSE]|\n",
      "|             243|  [ALAJUELA, CARTAG...|\n",
      "|             392|  [ALAJUELA, CARTAG...|\n",
      "|             540|  [ALAJUELA, HEREDI...|\n",
      "|             623|            [SAN JOSE]|\n",
      "|             737|            [SAN JOSE]|\n",
      "|             516|  [ALAJUELA, SAN JOSE]|\n",
      "+----------------+----------------------+\n",
      "only showing top 10 rows\n",
      "\n"
     ]
    }
   ],
   "source": [
    "df.groupby(\"clientes_totales\").agg(F.collect_set(\"provincia\")).show(10)"
   ]
  },
  {
   "cell_type": "markdown",
   "metadata": {},
   "source": [
    "# Operaciones nuevas (vistas en clase) :"
   ]
  },
  {
   "cell_type": "markdown",
   "metadata": {},
   "source": [
    "## 1. Filtrado con comando OR\n",
    "Registros en los días viernes O(or) sábados, que anteriormente vimos eran los más importantes en cantidad de clientes_totales, Y(and) que tengan 500 clientes o más"
   ]
  },
  {
   "cell_type": "code",
   "execution_count": 83,
   "metadata": {},
   "outputs": [
    {
     "name": "stdout",
     "output_type": "stream",
     "text": [
      "Viernes y Sabado:  477\n"
     ]
    }
   ],
   "source": [
    "\n",
    "print('Viernes y Sabado: ', df.where(((df['dia_de_la_semana'] == 'Viernes') | (df['dia_de_la_semana'] == 'Sabado')) & (df['clientes_totales'] > 500)).count())"
   ]
  },
  {
   "cell_type": "markdown",
   "metadata": {},
   "source": [
    "## 2. Filtrado con comando not equal (!=)\n",
    "Mismo filtro anterior pero con registros distintos a viernes y sábado"
   ]
  },
  {
   "cell_type": "code",
   "execution_count": 84,
   "metadata": {},
   "outputs": [
    {
     "name": "stdout",
     "output_type": "stream",
     "text": [
      "de Domingo a Jueves:  261\n"
     ]
    }
   ],
   "source": [
    "print('de Domingo a Jueves: ', df.where(((df['dia_de_la_semana'] != 'Viernes') & (df['dia_de_la_semana'] != 'Sabado')) & (df['clientes_totales'] > 500)).count())"
   ]
  },
  {
   "cell_type": "markdown",
   "metadata": {},
   "source": [
    "Los viernes y sábado representan el 64% del total de registros que tienen más de 500 clientes.\n",
    "Es decir, en solo 2 días de la semana (el 28% del tiempo) se concentra el 64% del volumen de ventas"
   ]
  },
  {
   "cell_type": "markdown",
   "metadata": {},
   "source": [
    "## 3. Calcular un nuevo valor a partir de columnas existentes (alias)\n",
    "\n",
    "Por ejemplo: para cada registro, calcular la proporción de clientes_vip sobre clientes_totales"
   ]
  },
  {
   "cell_type": "code",
   "execution_count": 134,
   "metadata": {},
   "outputs": [
    {
     "name": "stdout",
     "output_type": "stream",
     "text": [
      "+------------+----------------+--------------------+\n",
      "|clientes_vip|clientes_totales|          proporcion|\n",
      "+------------+----------------+--------------------+\n",
      "|        23.0|             210| 0.10952380952380952|\n",
      "|        17.0|             306| 0.05555555555555555|\n",
      "|        12.0|             203|0.059113300492610835|\n",
      "|        13.0|             192| 0.06770833333333333|\n",
      "|        16.0|             229| 0.06986899563318777|\n",
      "|        22.0|             225| 0.09777777777777778|\n",
      "|        26.0|             224| 0.11607142857142858|\n",
      "|        14.0|             179|  0.0782122905027933|\n",
      "|        15.0|             268|0.055970149253731345|\n",
      "|        15.0|             215| 0.06976744186046512|\n",
      "|        19.0|             235| 0.08085106382978724|\n",
      "|        22.0|             286| 0.07692307692307693|\n",
      "|        35.0|             250|                0.14|\n",
      "|        27.0|             203|  0.1330049261083744|\n",
      "|        18.0|             208| 0.08653846153846154|\n",
      "|        19.0|             239|  0.0794979079497908|\n",
      "|        18.0|             225|                0.08|\n",
      "|        21.0|             250|               0.084|\n",
      "|        24.0|             296| 0.08108108108108109|\n",
      "|        42.0|             287| 0.14634146341463414|\n",
      "+------------+----------------+--------------------+\n",
      "only showing top 20 rows\n",
      "\n"
     ]
    }
   ],
   "source": [
    "\n",
    "df1 = df.select(['clientes_vip','clientes_totales',(df.clientes_vip/df.clientes_totales).alias(\"proporcion\")])\n",
    "df1.show()\n"
   ]
  },
  {
   "cell_type": "code",
   "execution_count": 138,
   "metadata": {},
   "outputs": [
    {
     "name": "stdout",
     "output_type": "stream",
     "text": [
      "Registros con proporcion mayor a 0.10:  4716\n"
     ]
    }
   ],
   "source": [
    "print('Registros con proporcion mayor a 0.10: ',df1.filter(df1['proporcion'] > 0.10).count())\n"
   ]
  },
  {
   "cell_type": "markdown",
   "metadata": {},
   "source": [
    "### Análisis de la proporción de clientes vip sobre clientes totales\n",
    "Solo en 4716 de los registros los clientes vip son el 10% (o más) del total de clientes\n",
    "Eso es un 21% del total de registros\n",
    "\n",
    "Es decir, el 21% de los días, la participación de clientes vip es 10% o más\n",
    "Vale la pena un análisis mayor sobre esta participación, para valorar si conviene aumentarla, conociendo que los VIP compran más"
   ]
  },
  {
   "cell_type": "code",
   "execution_count": null,
   "metadata": {},
   "outputs": [],
   "source": []
  }
 ],
 "metadata": {
  "kernelspec": {
   "display_name": "Python 3",
   "language": "python",
   "name": "python3"
  },
  "language_info": {
   "codemirror_mode": {
    "name": "ipython",
    "version": 3
   },
   "file_extension": ".py",
   "mimetype": "text/x-python",
   "name": "python",
   "nbconvert_exporter": "python",
   "pygments_lexer": "ipython3",
   "version": "3.7.5"
  }
 },
 "nbformat": 4,
 "nbformat_minor": 2
}
